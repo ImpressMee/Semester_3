{
 "cells": [
  {
   "cell_type": "markdown",
   "id": "84a49615",
   "metadata": {},
   "source": [
    "### Python einführung\n"
   ]
  },
  {
   "cell_type": "code",
   "execution_count": 1,
   "id": "dc0c0450",
   "metadata": {},
   "outputs": [],
   "source": [
    "import numpy as nb\n"
   ]
  },
  {
   "cell_type": "code",
   "execution_count": null,
   "id": "0022835a",
   "metadata": {},
   "outputs": [],
   "source": []
  }
 ],
 "metadata": {
  "kernelspec": {
   "display_name": "Python 3",
   "language": "python",
   "name": "python3"
  },
  "language_info": {
   "codemirror_mode": {
    "name": "ipython",
    "version": 3
   },
   "file_extension": ".py",
   "mimetype": "text/x-python",
   "name": "python",
   "nbconvert_exporter": "python",
   "pygments_lexer": "ipython3",
   "version": "3.13.7"
  }
 },
 "nbformat": 4,
 "nbformat_minor": 5
}

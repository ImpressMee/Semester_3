{
 "cells": [
  {
   "cell_type": "markdown",
   "id": "a2ba8506",
   "metadata": {},
   "source": [
    "## Vorlesung vom 2 Oktober 2025\n",
    "sto_1 Beschreibende Statistik\n"
   ]
  },
  {
   "cell_type": "code",
   "execution_count": 19,
   "id": "e10689b0",
   "metadata": {},
   "outputs": [
    {
     "name": "stdout",
     "output_type": "stream",
     "text": [
      "    studyName  Sample Number                                    Species  \\\n",
      "0     PAL0708              1        Adelie Penguin (Pygoscelis adeliae)   \n",
      "1     PAL0708              2        Adelie Penguin (Pygoscelis adeliae)   \n",
      "2     PAL0708              3        Adelie Penguin (Pygoscelis adeliae)   \n",
      "3     PAL0708              4        Adelie Penguin (Pygoscelis adeliae)   \n",
      "4     PAL0708              5        Adelie Penguin (Pygoscelis adeliae)   \n",
      "..        ...            ...                                        ...   \n",
      "339   PAL0910             64  Chinstrap penguin (Pygoscelis antarctica)   \n",
      "340   PAL0910             65  Chinstrap penguin (Pygoscelis antarctica)   \n",
      "341   PAL0910             66  Chinstrap penguin (Pygoscelis antarctica)   \n",
      "342   PAL0910             67  Chinstrap penguin (Pygoscelis antarctica)   \n",
      "343   PAL0910             68  Chinstrap penguin (Pygoscelis antarctica)   \n",
      "\n",
      "     Region     Island               Stage Individual ID Clutch Completion  \\\n",
      "0    Anvers  Torgersen  Adult, 1 Egg Stage          N1A1               Yes   \n",
      "1    Anvers  Torgersen  Adult, 1 Egg Stage          N1A2               Yes   \n",
      "2    Anvers  Torgersen  Adult, 1 Egg Stage          N2A1               Yes   \n",
      "3    Anvers  Torgersen  Adult, 1 Egg Stage          N2A2               Yes   \n",
      "4    Anvers  Torgersen  Adult, 1 Egg Stage          N3A1               Yes   \n",
      "..      ...        ...                 ...           ...               ...   \n",
      "339  Anvers      Dream  Adult, 1 Egg Stage         N98A2               Yes   \n",
      "340  Anvers      Dream  Adult, 1 Egg Stage         N99A1                No   \n",
      "341  Anvers      Dream  Adult, 1 Egg Stage         N99A2                No   \n",
      "342  Anvers      Dream  Adult, 1 Egg Stage        N100A1               Yes   \n",
      "343  Anvers      Dream  Adult, 1 Egg Stage        N100A2               Yes   \n",
      "\n",
      "       Date Egg  Culmen Length (mm)  Culmen Depth (mm)  Flipper Length (mm)  \\\n",
      "0    2007-11-11                39.1               18.7                181.0   \n",
      "1    2007-11-11                39.5               17.4                186.0   \n",
      "2    2007-11-16                40.3               18.0                195.0   \n",
      "3    2007-11-16                 NaN                NaN                  NaN   \n",
      "4    2007-11-16                36.7               19.3                193.0   \n",
      "..          ...                 ...                ...                  ...   \n",
      "339  2009-11-19                55.8               19.8                207.0   \n",
      "340  2009-11-21                43.5               18.1                202.0   \n",
      "341  2009-11-21                49.6               18.2                193.0   \n",
      "342  2009-11-21                50.8               19.0                210.0   \n",
      "343  2009-11-21                50.2               18.7                198.0   \n",
      "\n",
      "     Body Mass (g)     Sex  Delta 15 N (o/oo)  Delta 13 C (o/oo)  \\\n",
      "0           3750.0    MALE                NaN                NaN   \n",
      "1           3800.0  FEMALE            8.94956          -24.69454   \n",
      "2           3250.0  FEMALE            8.36821          -25.33302   \n",
      "3              NaN     NaN                NaN                NaN   \n",
      "4           3450.0  FEMALE            8.76651          -25.32426   \n",
      "..             ...     ...                ...                ...   \n",
      "339         4000.0    MALE            9.70465          -24.53494   \n",
      "340         3400.0  FEMALE            9.37608          -24.40753   \n",
      "341         3775.0    MALE            9.46180          -24.70615   \n",
      "342         4100.0    MALE            9.98044          -24.68741   \n",
      "343         3775.0  FEMALE            9.39305          -24.25255   \n",
      "\n",
      "                                  Comments  \n",
      "0           Not enough blood for isotopes.  \n",
      "1                                      NaN  \n",
      "2                                      NaN  \n",
      "3                       Adult not sampled.  \n",
      "4                                      NaN  \n",
      "..                                     ...  \n",
      "339                                    NaN  \n",
      "340  Nest never observed with full clutch.  \n",
      "341  Nest never observed with full clutch.  \n",
      "342                                    NaN  \n",
      "343                                    NaN  \n",
      "\n",
      "[344 rows x 17 columns]\n"
     ]
    }
   ],
   "source": [
    "import pandas as pd\n",
    "import numpy as np\n",
    "import matplotlib.pyplot as plt\n",
    "\n",
    "df = pd.read_csv(\"penguins_raw.csv\")\n",
    "print(df)    # show first 5 rows\n"
   ]
  },
  {
   "cell_type": "code",
   "execution_count": 26,
   "id": "79f68c0c",
   "metadata": {},
   "outputs": [
    {
     "data": {
      "text/plain": [
       "<StemContainer object of 3 artists>"
      ]
     },
     "execution_count": 26,
     "metadata": {},
     "output_type": "execute_result"
    },
    {
     "data": {
      "image/png": "[encoded data removed]",
      "text/plain": [
       "<Figure size 640x480 with 1 Axes>"
      ]
     },
     "metadata": {},
     "output_type": "display_data"
    }
   ],
   "source": [
    "r = [9,8,9,9]\n",
    "s = [7,5,8,7,8]\n",
    "\n",
    "\n",
    "plt.ylabel(\"Rel Häufigkeit\")\n",
    "plt.xlabel(\"# Positionen\")\n",
    "plt.stem(r)"
   ]
  },
  {
   "cell_type": "code",
   "execution_count": null,
   "id": "691016b8",
   "metadata": {},
   "outputs": [],
   "source": []
  }
 ],
 "metadata": {
  "kernelspec": {
   "display_name": "Python 3",
   "language": "python",
   "name": "python3"
  },
  "language_info": {
   "codemirror_mode": {
    "name": "ipython",
    "version": 3
   },
   "file_extension": ".py",
   "mimetype": "text/x-python",
   "name": "python",
   "nbconvert_exporter": "python",
   "pygments_lexer": "ipython3",
   "version": "3.13.7"
  }
 },
 "nbformat": 4,
 "nbformat_minor": 5
}

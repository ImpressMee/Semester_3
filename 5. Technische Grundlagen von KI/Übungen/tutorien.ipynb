{
 "cells": [
  {
   "cell_type": "markdown",
   "id": "69a93f8c",
   "metadata": {},
   "source": [
    "Tutorien von b) - e)"
   ]
  },
  {
   "cell_type": "code",
   "execution_count": null,
   "id": "0cedd988",
   "metadata": {},
   "outputs": [
    {
     "name": "stdout",
     "output_type": "stream",
     "text": [
      "--f=c:\\Users\\justi\\AppData\\Roaming\\jupyter\\runtime\\kernel-v3773c9f33b6a9551adf87be761e3cd21aa4013e4d.json =======\n"
     ]
    },
    {
     "ename": "OSError",
     "evalue": "[Errno 22] Invalid argument: '--f=c:\\\\Users\\\\justi\\\\AppData\\\\Roaming\\\\jupyter\\\\runtime\\\\kernel-v3773c9f33b6a9551adf87be761e3cd21aa4013e4d.json'",
     "output_type": "error",
     "traceback": [
      "\u001b[31m---------------------------------------------------------------------------\u001b[39m",
      "\u001b[31mOSError\u001b[39m                                   Traceback (most recent call last)",
      "\u001b[36mCell\u001b[39m\u001b[36m \u001b[39m\u001b[32mIn[4]\u001b[39m\u001b[32m, line 51\u001b[39m\n\u001b[32m     49\u001b[39m \u001b[38;5;66;03m# Standard boilerplate at end of file to call main() function.\u001b[39;00m\n\u001b[32m     50\u001b[39m \u001b[38;5;28;01mif\u001b[39;00m(\u001b[34m__name__\u001b[39m == \u001b[33m'\u001b[39m\u001b[33m__main__\u001b[39m\u001b[33m'\u001b[39m):\n\u001b[32m---> \u001b[39m\u001b[32m51\u001b[39m   \u001b[43mmain\u001b[49m\u001b[43m(\u001b[49m\u001b[43m)\u001b[49m\n",
      "\u001b[36mCell\u001b[39m\u001b[36m \u001b[39m\u001b[32mIn[4]\u001b[39m\u001b[32m, line 45\u001b[39m, in \u001b[36mmain\u001b[39m\u001b[34m()\u001b[39m\n\u001b[32m     41\u001b[39m     cat(filename)\n\u001b[32m     42\u001b[39m     \u001b[38;5;66;03m# important point: errors in above line only caught if it is run\u001b[39;00m\n\u001b[32m     43\u001b[39m   \u001b[38;5;28;01melse\u001b[39;00m:\n\u001b[32m     44\u001b[39m     \u001b[38;5;66;03m# regular case\u001b[39;00m\n\u001b[32m---> \u001b[39m\u001b[32m45\u001b[39m     \u001b[43mcat\u001b[49m\u001b[43m(\u001b[49m\u001b[43mfilename\u001b[49m\u001b[43m)\u001b[49m\n\u001b[32m     46\u001b[39m \u001b[38;5;28mprint\u001b[39m(\u001b[33m'\u001b[39m\u001b[33mall done\u001b[39m\u001b[33m'\u001b[39m)\n",
      "\u001b[36mCell\u001b[39m\u001b[36m \u001b[39m\u001b[32mIn[4]\u001b[39m\u001b[32m, line 24\u001b[39m, in \u001b[36mcat\u001b[39m\u001b[34m(filename)\u001b[39m\n\u001b[32m     22\u001b[39m \u001b[38;5;250m\u001b[39m\u001b[33;03m\"\"\"Given filename, print its text contents.\"\"\"\u001b[39;00m\n\u001b[32m     23\u001b[39m \u001b[38;5;28mprint\u001b[39m(filename, \u001b[33m'\u001b[39m\u001b[33m=======\u001b[39m\u001b[33m'\u001b[39m)\n\u001b[32m---> \u001b[39m\u001b[32m24\u001b[39m f = \u001b[38;5;28;43mopen\u001b[39;49m\u001b[43m(\u001b[49m\u001b[43mfilename\u001b[49m\u001b[43m,\u001b[49m\u001b[43m \u001b[49m\u001b[33;43m'\u001b[39;49m\u001b[33;43mr\u001b[39;49m\u001b[33;43m'\u001b[39;49m\u001b[43m)\u001b[49m\n\u001b[32m     25\u001b[39m \u001b[38;5;28;01mfor\u001b[39;00m line \u001b[38;5;129;01min\u001b[39;00m f:  \u001b[38;5;66;03m# goes through a text file line by line\u001b[39;00m\n\u001b[32m     26\u001b[39m   \u001b[38;5;28mprint\u001b[39m(line),   \u001b[38;5;66;03m# trailing comma inhibits the ending print-newline\u001b[39;00m\n",
      "\u001b[36mFile \u001b[39m\u001b[32m~\\AppData\\Roaming\\Python\\Python313\\site-packages\\IPython\\core\\interactiveshell.py:343\u001b[39m, in \u001b[36m_modified_open\u001b[39m\u001b[34m(file, *args, **kwargs)\u001b[39m\n\u001b[32m    336\u001b[39m \u001b[38;5;28;01mif\u001b[39;00m file \u001b[38;5;129;01min\u001b[39;00m {\u001b[32m0\u001b[39m, \u001b[32m1\u001b[39m, \u001b[32m2\u001b[39m}:\n\u001b[32m    337\u001b[39m     \u001b[38;5;28;01mraise\u001b[39;00m \u001b[38;5;167;01mValueError\u001b[39;00m(\n\u001b[32m    338\u001b[39m         \u001b[33mf\u001b[39m\u001b[33m\"\u001b[39m\u001b[33mIPython won\u001b[39m\u001b[33m'\u001b[39m\u001b[33mt let you open fd=\u001b[39m\u001b[38;5;132;01m{\u001b[39;00mfile\u001b[38;5;132;01m}\u001b[39;00m\u001b[33m by default \u001b[39m\u001b[33m\"\u001b[39m\n\u001b[32m    339\u001b[39m         \u001b[33m\"\u001b[39m\u001b[33mas it is likely to crash IPython. If you know what you are doing, \u001b[39m\u001b[33m\"\u001b[39m\n\u001b[32m    340\u001b[39m         \u001b[33m\"\u001b[39m\u001b[33myou can use builtins\u001b[39m\u001b[33m'\u001b[39m\u001b[33m open.\u001b[39m\u001b[33m\"\u001b[39m\n\u001b[32m    341\u001b[39m     )\n\u001b[32m--> \u001b[39m\u001b[32m343\u001b[39m \u001b[38;5;28;01mreturn\u001b[39;00m \u001b[43mio_open\u001b[49m\u001b[43m(\u001b[49m\u001b[43mfile\u001b[49m\u001b[43m,\u001b[49m\u001b[43m \u001b[49m\u001b[43m*\u001b[49m\u001b[43margs\u001b[49m\u001b[43m,\u001b[49m\u001b[43m \u001b[49m\u001b[43m*\u001b[49m\u001b[43m*\u001b[49m\u001b[43mkwargs\u001b[49m\u001b[43m)\u001b[49m\n",
      "\u001b[31mOSError\u001b[39m: [Errno 22] Invalid argument: '--f=c:\\\\Users\\\\justi\\\\AppData\\\\Roaming\\\\jupyter\\\\runtime\\\\kernel-v3773c9f33b6a9551adf87be761e3cd21aa4013e4d.json'"
     ]
    }
   ],
   "source": [
    "# b) Python in one easy lesson https://cs.stanford.edu/people/nick/python-in-one-easy-lesson/\n",
    "# An sich haben wir das verstanden. \n",
    "\n",
    "#!/usr/bin/python -tt\n",
    "\n",
    "\"\"\"\n",
    "cat.py -- just a little example python program\n",
    "showing some common syntax. This program works.\n",
    "nick.parlante@cs.stanford.edu\n",
    "\n",
    "-tt flag above detects space/tab indent problems\n",
    "\"\"\"\n",
    "\n",
    "# sys is one of many available modules of library code, import to use.\n",
    "# sys.argv is the list of command line arguments.\n",
    "import sys\n",
    "\n",
    "# defines a global variable\n",
    "a = 123\n",
    "\n",
    "# defines a 'cat' function which takes a filename\n",
    "def cat(filename):\n",
    "  \"\"\"Given filename, print its text contents.\"\"\"\n",
    "  print filename, '======='\n",
    "  f = open(filename, 'r')\n",
    "  for line in f:  # goes through a text file line by line\n",
    "    print line,   # trailing comma inhibits the ending print-newline\n",
    "  # alternative, read the whole file into a single string:\n",
    "  # text = f.read()\n",
    "  f.close()\n",
    "\n",
    "def main():\n",
    "  # sys.argv contains command line arguments.\n",
    "  # This assigns a list of all but the first arg into a local 'args' var.\n",
    "  args = sys.argv[1:]\n",
    "  \n",
    "  # important syntax -- loop of variable 'filename' over the args list.\n",
    "  for filename in args:\n",
    "    # detect scary filenames: if/else and/or/not\n",
    "    if filename == 'voldemort' or filename == 'vader':\n",
    "      print 'this file is very worrying'\n",
    "      cat(filemane, 123, bad_variable)\n",
    "      # important point: errors in above line only caught if it is run\n",
    "    else:\n",
    "      # regular case\n",
    "      cat(filename)\n",
    "  print 'all done'  # this print is outside the loop, due to its indentation\n",
    "\n",
    "\n",
    "# Standard boilerplate at end of file to call main() function.\n",
    "if __name__ == '__main__':\n",
    "  main()"
   ]
  },
  {
   "cell_type": "code",
   "execution_count": null,
   "id": "314ecc31",
   "metadata": {},
   "outputs": [],
   "source": []
  }
 ],
 "metadata": {
  "kernelspec": {
   "display_name": "Python 3",
   "language": "python",
   "name": "python3"
  },
  "language_info": {
   "codemirror_mode": {
    "name": "ipython",
    "version": 3
   },
   "file_extension": ".py",
   "mimetype": "text/x-python",
   "name": "python",
   "nbconvert_exporter": "python",
   "pygments_lexer": "ipython3",
   "version": "3.13.7"
  }
 },
 "nbformat": 4,
 "nbformat_minor": 5
}
